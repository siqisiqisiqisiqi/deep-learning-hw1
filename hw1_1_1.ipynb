{
  "nbformat": 4,
  "nbformat_minor": 0,
  "metadata": {
    "colab": {
      "name": "hw1_1_1.ipynb",
      "provenance": [],
      "collapsed_sections": [],
      "mount_file_id": "1my7DdVrGynWw_G2YZ32C8DHyC6VHM3Pw",
      "authorship_tag": "ABX9TyNLEYGxaGunBIFGWIl3Gc+s",
      "include_colab_link": true
    },
    "kernelspec": {
      "name": "python3",
      "display_name": "Python 3"
    },
    "language_info": {
      "name": "python"
    }
  },
  "cells": [
    {
      "cell_type": "markdown",
      "metadata": {
        "id": "view-in-github",
        "colab_type": "text"
      },
      "source": [
        "<a href=\"https://colab.research.google.com/github/siqisiqisiqisiqi/deep-learning-hw1/blob/main/hw1_1_1.ipynb\" target=\"_parent\"><img src=\"https://colab.research.google.com/assets/colab-badge.svg\" alt=\"Open In Colab\"/></a>"
      ]
    },
    {
      "cell_type": "code",
      "source": [
        "pip install torchviz"
      ],
      "metadata": {
        "colab": {
          "base_uri": "https://localhost:8080/"
        },
        "id": "uTjPVcomsBwO",
        "outputId": "56143a54-11a3-4e55-cacf-c9abb8d23be0"
      },
      "execution_count": null,
      "outputs": [
        {
          "output_type": "stream",
          "name": "stdout",
          "text": [
            "Collecting torchviz\n",
            "  Downloading torchviz-0.0.2.tar.gz (4.9 kB)\n",
            "Requirement already satisfied: torch in /usr/local/lib/python3.7/dist-packages (from torchviz) (1.10.0+cu111)\n",
            "Requirement already satisfied: graphviz in /usr/local/lib/python3.7/dist-packages (from torchviz) (0.10.1)\n",
            "Requirement already satisfied: typing-extensions in /usr/local/lib/python3.7/dist-packages (from torch->torchviz) (3.10.0.2)\n",
            "Building wheels for collected packages: torchviz\n",
            "  Building wheel for torchviz (setup.py) ... \u001b[?25l\u001b[?25hdone\n",
            "  Created wheel for torchviz: filename=torchviz-0.0.2-py3-none-any.whl size=4150 sha256=e392f67417b02bb0c815f03bac08f8901be62cc0f2036b3228b97a78633f9943\n",
            "  Stored in directory: /root/.cache/pip/wheels/04/38/f5/dc4f85c3909051823df49901e72015d2d750bd26b086480ec2\n",
            "Successfully built torchviz\n",
            "Installing collected packages: torchviz\n",
            "Successfully installed torchviz-0.0.2\n"
          ]
        }
      ]
    },
    {
      "cell_type": "code",
      "source": [
        "pip install hiddenlayer\n"
      ],
      "metadata": {
        "colab": {
          "base_uri": "https://localhost:8080/"
        },
        "id": "E7ER9eyAsDjF",
        "outputId": "6cfa5ab6-98a2-4a73-bb16-90873dd101af"
      },
      "execution_count": null,
      "outputs": [
        {
          "output_type": "stream",
          "name": "stdout",
          "text": [
            "Collecting hiddenlayer\n",
            "  Downloading hiddenlayer-0.3-py3-none-any.whl (19 kB)\n",
            "Installing collected packages: hiddenlayer\n",
            "Successfully installed hiddenlayer-0.3\n"
          ]
        }
      ]
    },
    {
      "cell_type": "code",
      "source": [
        "import torch\n",
        "import torch.nn as nn\n",
        "from torch.optim import SGD\n",
        "import torch.utils.data as Data\n",
        "from sklearn.datasets import load_boston\n",
        "import pandas as pd\n",
        "import numpy as np\n",
        "import matplotlib.pyplot as plt\n",
        "from torchviz import make_dot\n",
        "from sklearn.preprocessing import StandardScaler, MinMaxScaler\n",
        "from sklearn.model_selection import train_test_split\n",
        "import hiddenlayer as hl\n",
        "from sklearn.metrics import accuracy_score,confusion_matrix,classification_report\n",
        "import math"
      ],
      "metadata": {
        "id": "iWqBaunmr-2S"
      },
      "execution_count": null,
      "outputs": []
    },
    {
      "cell_type": "code",
      "source": [
        "pi = math.pi\n",
        "train_x = torch.arange(1e-4,1,0.001)\n",
        "train_x = train_x.numpy()\n",
        "num = np.size(train_x)\n",
        "train_y = np.sin(5*pi*train_x)/(5*pi*train_x)\n",
        "train_x = train_x.reshape(num,1)\n",
        "train_y = train_y.reshape(num,)"
      ],
      "metadata": {
        "id": "xroN7ayEqNva"
      },
      "execution_count": null,
      "outputs": []
    },
    {
      "cell_type": "code",
      "source": [
        "X_train, X_test, y_train, y_test = train_test_split(\n",
        "    train_x, train_y, test_size=0.1, random_state=123\n",
        ")\n",
        " \n",
        "scales = MinMaxScaler(feature_range=(0, 1))\n",
        "X_train_s=  X_train\n",
        "X_test_s=X_test\n",
        " \n",
        "X_train_s = torch.from_numpy(X_train_s.astype(np.float32))\n",
        "y_train = torch.from_numpy(y_train.astype(np.float32))\n",
        "X_test_s = torch.from_numpy(X_test_s.astype(np.float32))\n",
        "y_test = torch.from_numpy(y_test.astype(np.float32))\n",
        " \n",
        "train_data = Data.TensorDataset(X_train_s, y_train)\n",
        "test_data = Data.TensorDataset(X_test_s,y_test)\n",
        " \n"
      ],
      "metadata": {
        "id": "xDkcMKj2sf_j"
      },
      "execution_count": null,
      "outputs": []
    },
    {
      "cell_type": "code",
      "source": [
        "train_loader = Data.DataLoader(\n",
        "    dataset=train_data,  \n",
        "    batch_size=len(train_data),\n",
        "    shuffle = True\n",
        ")\n",
        " \n",
        "test_loader = Data.DataLoader(\n",
        "    dataset=test_data, \n",
        "    batch_size=len(test_data),\n",
        "    shuffle = True\n",
        ")"
      ],
      "metadata": {
        "id": "mymV8fwsePui"
      },
      "execution_count": null,
      "outputs": []
    },
    {
      "cell_type": "code",
      "source": [
        "def weights_init(m):\n",
        "    if isinstance(m, nn.Conv2d):\n",
        "        torch.nn.init.xavier_uniform(m.weight.data)"
      ],
      "metadata": {
        "id": "shX0UsgPvuSL"
      },
      "execution_count": null,
      "outputs": []
    },
    {
      "cell_type": "code",
      "source": [
        "def count_parameters(model):\n",
        "  return sum(p.numel() for p in model.parameters() if p.requires_grad)"
      ],
      "metadata": {
        "id": "S1wDKNhamhJc"
      },
      "execution_count": null,
      "outputs": []
    },
    {
      "cell_type": "code",
      "source": [
        "class model_0(nn.Module):\n",
        "  def __init__(self):\n",
        "    super(model_0, self).__init__()\n",
        "    self.flatten = nn.Flatten()\n",
        "    self.linear_relu_stack = nn.Sequential(\n",
        "        nn.Linear(1,5),\n",
        "        nn.ReLU(),\n",
        "        nn.Linear(5,10),\n",
        "        nn.ReLU(),\n",
        "        nn.Linear(10,10),\n",
        "        nn.ReLU(),\n",
        "        nn.Linear(10,10),\n",
        "        nn.ReLU(),\n",
        "        nn.Linear(10,10),\n",
        "        nn.ReLU(),\n",
        "        nn.Linear(10,10),\n",
        "        nn.ReLU(),\n",
        "        nn.Linear(10,5),\n",
        "        nn.ReLU(),\n",
        "        nn.Linear(5,1),\n",
        "    )\n",
        "  def forward(self, x):\n",
        "    x = self.flatten(x)\n",
        "    logits = self.linear_relu_stack(x)\n",
        "    return logits"
      ],
      "metadata": {
        "id": "l8NvzEC0szRo"
      },
      "execution_count": null,
      "outputs": []
    },
    {
      "cell_type": "code",
      "source": [
        "class model_1(nn.Module):\n",
        "  def __init__(self):\n",
        "    super(model_1, self).__init__()\n",
        "    self.flatten = nn.Flatten()\n",
        "    self.linear_relu_stack = nn.Sequential(\n",
        "        nn.Linear(1,10),\n",
        "        nn.ReLU(),\n",
        "        nn.Linear(10,18),\n",
        "        nn.ReLU(),\n",
        "        nn.Linear(18,15),\n",
        "        nn.ReLU(),\n",
        "        nn.Linear(15,4),\n",
        "        nn.ReLU(),\n",
        "        nn.Linear(4,1),\n",
        "    )\n",
        "  def forward(self, x):\n",
        "    x = self.flatten(x)\n",
        "    logits = self.linear_relu_stack(x)\n",
        "    return logits"
      ],
      "metadata": {
        "id": "MVgJ5L3z6y3S"
      },
      "execution_count": null,
      "outputs": []
    },
    {
      "cell_type": "code",
      "source": [
        "class model_2(nn.Module):\n",
        "  def __init__(self):\n",
        "    super(model_2, self).__init__()\n",
        "    self.flatten = nn.Flatten()\n",
        "    self.linear_relu_stack = nn.Sequential(\n",
        "        nn.Linear(1,190),\n",
        "        nn.ReLU(),\n",
        "        nn.Linear(190,1),\n",
        "    )\n",
        "  def forward(self, x):\n",
        "    x = self.flatten(x)\n",
        "    logits = self.linear_relu_stack(x)\n",
        "    return logits"
      ],
      "metadata": {
        "id": "Zo1P0jRac2zy"
      },
      "execution_count": null,
      "outputs": []
    },
    {
      "cell_type": "code",
      "source": [
        "mlp0 = model_0()\n",
        "lr_0 = 1e-4\n",
        "\n",
        "mlp1 = model_1()\n",
        "lr_1 = 1e-3\n",
        "\n",
        "mlp2 = model_2()\n",
        "lr_2 = 1e-4\n",
        "\n",
        "# num = count_parameters(mlp1)\n",
        "# print(num)"
      ],
      "metadata": {
        "id": "CGTFupEbm_Sz"
      },
      "execution_count": null,
      "outputs": []
    },
    {
      "cell_type": "code",
      "source": [
        "# optimizer\n",
        "optimizer0 = torch.optim.Adam(mlp0.parameters(), lr=lr_0)\n",
        "optimizer1 = torch.optim.Adam(mlp1.parameters(), lr=lr_1)\n",
        "optimizer2 = torch.optim.Adam(mlp2.parameters(), lr=lr_2)\n",
        "\n",
        "loss_func = nn.MSELoss()  \n",
        "\n",
        "train_loss_all_0 = []\n",
        "train_loss_all_1 = []\n",
        "train_loss_all_2 = []\n",
        "\n",
        "history1 = hl.History()\n",
        "epochs = 20000\n",
        "\n",
        "canvas1 = hl.Canvas()\n",
        "print_step = 100\n",
        " \n",
        " \n",
        "for epoch in range(epochs):\n",
        "  for step, (b_x, b_y) in enumerate(train_loader):\n",
        "    output0 = mlp0(b_x)  \n",
        "    output1 = mlp1(b_x)\n",
        "    output2 = mlp2(b_x)\n",
        "\n",
        "    b_y = b_y.reshape(len(b_y),1)\n",
        "    train_loss_0 = loss_func(output0, b_y)  \n",
        "    train_loss_1 = loss_func(output1, b_y) \n",
        "    train_loss_2 = loss_func(output2, b_y)   \n",
        "\n",
        "    optimizer0.zero_grad()  \n",
        "    optimizer1.zero_grad()  \n",
        "    optimizer2.zero_grad()  \n",
        "\n",
        "    train_loss_0.backward()  \n",
        "    train_loss_1.backward()  \n",
        "    train_loss_2.backward() \n",
        "\n",
        "    optimizer0.step()  \n",
        "    train_loss_all_0.append(train_loss_0.item())\n",
        "    optimizer1.step()  \n",
        "    train_loss_all_1.append(train_loss_1.item())\n",
        "    optimizer2.step()  \n",
        "    train_loss_all_2.append(train_loss_2.item())\n",
        "\n",
        "    # niter = epoch*len(train_loader)+step+1\n",
        "\n",
        "  # if niter % print_step == 0:\n",
        "  #   output1 = mlp1(X_test_s)\n",
        "\n",
        "  #   y_test=y_test.reshape(len(y_test),1)\n",
        "  #   test_loss = loss_func(output1,y_test)\n",
        "  #   # print(test_loss)\n",
        "  #   history1.log(niter, test_loss=test_loss )\n",
        "\n",
        "  #   with canvas1:\n",
        "  #     canvas1.draw_plot(history1[\"test_loss\"])"
      ],
      "metadata": {
        "id": "TsItoBgjsg9c"
      },
      "execution_count": null,
      "outputs": []
    },
    {
      "cell_type": "code",
      "source": [
        "plt.figure()\n",
        "p0, = plt.plot(train_loss_all_0)\n",
        "p1, = plt.plot(train_loss_all_1)\n",
        "p2, = plt.plot(train_loss_all_2)\n",
        "plt.xlabel(\"epoch\")\n",
        "plt.ylabel(\"loss\")\n",
        "plt.legend([p0,p1,p2],[\"model0 loss\",\"model1 loss\",\"model2 loss\"])\n",
        "\n",
        "\n",
        "##################################################-------------------#########################################\n",
        "\n",
        "\n",
        "plt.figure()\n",
        "x = np.arange(1e-4,1,0.002)\n",
        "x = x.reshape(len(x), 1)\n",
        "y = np.sin(5*pi*x)/(5*pi*x)\n",
        "p, = plt.plot(x,y,'r-')\n",
        "\n",
        "x0 = np.arange(1e-4,1,0.001)\n",
        "x0 = x0.reshape(len(x0), 1)\n",
        "x0 = torch.from_numpy(x0.astype(np.float32))\n",
        "\n",
        "y0 = mlp0(x0)\n",
        "x0 = x0.numpy()\n",
        "y0 = y0.detach().numpy()\n",
        "\n",
        "p0, = plt.plot(x0,y0,'b-')\n",
        "\n",
        "x1 = np.arange(1e-4,1,0.001)\n",
        "x1 = x1.reshape(len(x1), 1)\n",
        "x1 = torch.from_numpy(x1.astype(np.float32))\n",
        "\n",
        "y1 = mlp1(x1)\n",
        "x1 = x1.numpy()\n",
        "y1 = y1.detach().numpy()\n",
        "\n",
        "p1, = plt.plot(x1,y1,'g-')\n",
        "\n",
        "x2 = np.arange(1e-4,1,0.001)\n",
        "x2 = x2.reshape(len(x2), 1)\n",
        "x2 = torch.from_numpy(x2.astype(np.float32))\n",
        "\n",
        "y2 = mlp2(x2)\n",
        "x2 = x2.numpy()\n",
        "y2 = y2.detach().numpy()\n",
        "\n",
        "p2, = plt.plot(x2,y2,'y-')\n",
        "\n",
        "plt.legend([p, p0, p2, p1],[\"actual value\",\"model0\",\"model1\",\"model2\"])\n",
        "\n",
        "plt.show()\n"
      ],
      "metadata": {
        "colab": {
          "base_uri": "https://localhost:8080/",
          "height": 527
        },
        "id": "RkOJwQSWr86g",
        "outputId": "fc03658e-e7ac-44e0-9205-7b575b048661"
      },
      "execution_count": null,
      "outputs": [
        {
          "output_type": "display_data",
          "data": {
            "image/png": "[encoded data removed]",
            "text/plain": [
              "<Figure size 432x288 with 1 Axes>"
            ]
          },
          "metadata": {
            "needs_background": "light"
          }
        },
        {
          "output_type": "display_data",
          "data": {
            "image/png": "[encoded data removed]",
            "text/plain": [
              "<Figure size 432x288 with 1 Axes>"
            ]
          },
          "metadata": {
            "needs_background": "light"
          }
        }
      ]
    },
    {
      "cell_type": "code",
      "source": [
        "from google.colab import drive"
      ],
      "metadata": {
        "id": "a-sN4kPR0IaY"
      },
      "execution_count": null,
      "outputs": []
    },
    {
      "cell_type": "code",
      "source": [
        "drive.mount('/content/drive/')\n",
        "PATH = './drive/MyDrive/Colab Notebooks/model.pth'\n",
        "# torch.save(mlp0,PATH)\n",
        "torch.save(mlp1,PATH)\n",
        "# torch.save(mlp2,PATH)"
      ],
      "metadata": {
        "id": "prTuoaomw08s"
      },
      "execution_count": null,
      "outputs": []
    },
    {
      "cell_type": "code",
      "source": [
        ""
      ],
      "metadata": {
        "id": "AxY1qJS0yW7v"
      },
      "execution_count": null,
      "outputs": []
    }
  ]
}