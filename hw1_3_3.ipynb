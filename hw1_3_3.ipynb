{
  "nbformat": 4,
  "nbformat_minor": 0,
  "metadata": {
    "colab": {
      "name": "hw1_3_3.ipynb",
      "provenance": [],
      "authorship_tag": "ABX9TyPWIEvS1ClEYc0QEPvynhDX",
      "include_colab_link": true
    },
    "kernelspec": {
      "name": "python3",
      "display_name": "Python 3"
    },
    "language_info": {
      "name": "python"
    }
  },
  "cells": [
    {
      "cell_type": "markdown",
      "metadata": {
        "id": "view-in-github",
        "colab_type": "text"
      },
      "source": [
        "<a href=\"https://colab.research.google.com/github/siqisiqisiqisiqi/deep-learning-hw1/blob/main/hw1_3_3.ipynb\" target=\"_parent\"><img src=\"https://colab.research.google.com/assets/colab-badge.svg\" alt=\"Open In Colab\"/></a>"
      ]
    },
    {
      "cell_type": "code",
      "execution_count": null,
      "metadata": {
        "id": "FtgcQxi2ORrh"
      },
      "outputs": [],
      "source": [
        "import torch\n",
        "from torch.utils.data import DataLoader\n",
        "from torchvision import datasets\n",
        "from torchvision.transforms import ToTensor, Compose, Normalize \n",
        "import numpy as np\n",
        "import torch.nn as nn\n",
        "import torch.nn.functional as F\n",
        "import torch.optim as optim\n",
        "from torch.nn.modules.conv import Conv2d\n",
        "import matplotlib.pyplot as plt\n",
        "from sklearn.decomposition import PCA"
      ]
    },
    {
      "cell_type": "code",
      "source": [
        "n_epochs = 3\n",
        "batch_size_train = 1024 \n",
        "batch_size_test = 1000\n",
        "learning_rate = 0.01\n",
        "momentum = 0.5\n",
        "log_interval = 10\n",
        "random_seed = 1\n",
        "torch.manual_seed(random_seed)"
      ],
      "metadata": {
        "colab": {
          "base_uri": "https://localhost:8080/"
        },
        "id": "6wcKwYdoPv24",
        "outputId": "2b76a62c-2f0d-48e1-d917-855af3114e98"
      },
      "execution_count": null,
      "outputs": [
        {
          "output_type": "execute_result",
          "data": {
            "text/plain": [
              "<torch._C.Generator at 0x7fa07c1b5630>"
            ]
          },
          "metadata": {},
          "execution_count": 54
        }
      ]
    },
    {
      "cell_type": "code",
      "source": [
        "training_data = datasets.MNIST(\n",
        "    root = \"data\",\n",
        "    train = True,\n",
        "    download = True,\n",
        "    transform=Compose([ToTensor(),Normalize((0.1307,),(0.3081,))])\n",
        ")\n",
        "test_data = datasets.MNIST(\n",
        "    root=\"data\",\n",
        "    train=False,\n",
        "    download=True,\n",
        "    transform=Compose([ToTensor(),Normalize((0.1307,),(0.3081,))])\n",
        ")"
      ],
      "metadata": {
        "id": "Koy1ZS6yPx-d"
      },
      "execution_count": null,
      "outputs": []
    },
    {
      "cell_type": "code",
      "source": [
        "def caculate_sensitivity():\n",
        "  norm = 0\n",
        "  # with torch.no_grad():\n",
        "  for x, y in test_loader:\n",
        "    x.requires_grad = True\n",
        "    network.eval()\n",
        "    output = network(x)\n",
        "    test_loss = F.nll_loss(output, y, size_average=False)\n",
        "    optimizer.zero_grad()\n",
        "    test_loss.backward()\n",
        "    ans = x.grad\n",
        "    ans = ans.numpy()\n",
        "    ans2 = 0\n",
        "    for i in range(len(ans)):\n",
        "      a = ans[i,0,:,:]\n",
        "      ans2 += np.linalg.norm(a,'fro')\n",
        "    norm += ans2/len(ans)\n",
        "  return norm"
      ],
      "metadata": {
        "id": "R3zNdsV94MOw"
      },
      "execution_count": null,
      "outputs": []
    },
    {
      "cell_type": "code",
      "source": [
        "class NeuralNetwork(nn.Module):\n",
        "  def __init__(self):\n",
        "      super(NeuralNetwork, self).__init__()\n",
        "      self.conv1 = nn.Conv2d(1, 10, kernel_size=5)\n",
        "      self.conv2 = nn.Conv2d(10, 20, kernel_size=5)\n",
        "      self.conv2_drop = nn.Dropout2d()\n",
        "      self.fc1 = nn.Linear(320, 50)\n",
        "      self.fc2 = nn.Linear(50, 10)\n",
        "  def forward(self, x):\n",
        "    x = F.relu(F.max_pool2d(self.conv1(x),2))\n",
        "    x = F.relu(F.max_pool2d(self.conv2_drop(self.conv2(x)),2))\n",
        "    x = x.view(-1, 320)\n",
        "    x = F.relu(self.fc1(x))\n",
        "    x = F.dropout(x, training=self.training)\n",
        "    x = self.fc2(x)\n",
        "    return F.log_softmax(x)"
      ],
      "metadata": {
        "id": "G6k-5y7eP0Os"
      },
      "execution_count": null,
      "outputs": []
    },
    {
      "cell_type": "code",
      "source": [
        "train_loader = DataLoader(training_data, batch_size=batch_size_train, shuffle=False)\n",
        "test_loader = DataLoader(test_data, batch_size=batch_size_test, shuffle=True)"
      ],
      "metadata": {
        "id": "8OnHSl0FP-WU"
      },
      "execution_count": null,
      "outputs": []
    },
    {
      "cell_type": "code",
      "source": [
        "def count_parameters(model):\n",
        "  return sum(p.numel() for p in model.parameters() if p.requires_grad)"
      ],
      "metadata": {
        "id": "c9xf8idKQFVX"
      },
      "execution_count": null,
      "outputs": []
    },
    {
      "cell_type": "code",
      "source": [
        "loss_fn = nn.CrossEntropyLoss()\n",
        "def Accuracy(dataloader):\n",
        "  network.eval()\n",
        "  correct = 0\n",
        "  with torch.no_grad():\n",
        "    for data, target in dataloader:\n",
        "      output = network(data)\n",
        "      pred = output.data.max(1, keepdim=True)[1]\n",
        "      correct += pred.eq(target.data.view_as(pred)).sum()\n",
        "  accu = 100. * correct / len(dataloader.dataset)\n",
        "  return accu"
      ],
      "metadata": {
        "id": "o2y6VS_KQHng"
      },
      "execution_count": null,
      "outputs": []
    },
    {
      "cell_type": "code",
      "source": [
        "def test():\n",
        "  network.eval()\n",
        "  test_loss = 0\n",
        "  correct = 0\n",
        "  with torch.no_grad():\n",
        "    for data, target in test_loader:\n",
        "      output = network(data)\n",
        "      test_loss += loss_fn(output, target).item()\n",
        "      pred = output.data.max(1, keepdim=True)[1]\n",
        "      correct += pred.eq(target.data.view_as(pred)).sum()\n",
        "  test_loss /= len(test_loader)\n",
        "  print('\\n Test set: Avg. loss: {:.4f}, Accuracy: {}/{} ({:.0f}%)\\n'.format(test_loss, correct, len(test_loader.dataset), 100. * correct / len(test_loader.dataset)))"
      ],
      "metadata": {
        "id": "cKhbqUe5QJmy"
      },
      "execution_count": null,
      "outputs": []
    },
    {
      "cell_type": "code",
      "source": [
        "def train(epoch):\n",
        "  # network.train()\n",
        "  for batch_idx, (data, target) in enumerate(train_loader):\n",
        "    network.train()\n",
        "    optimizer.zero_grad()\n",
        "    output = network(data)\n",
        "    loss = loss_fn(output, target)\n",
        "    loss.backward()\n",
        "    optimizer.step()\n",
        "\n",
        "    if batch_idx % log_interval == 0:\n",
        "      print('Train Epoch: {} [{}/{} ({:.0f}%)]\\tLoss: {:.6f}'.format(\n",
        "        epoch, batch_idx * len(data), len(train_loader.dataset),\n",
        "        100. * batch_idx / len(train_loader), loss.item()))"
      ],
      "metadata": {
        "id": "uqsGn0gGZH_f"
      },
      "execution_count": null,
      "outputs": []
    },
    {
      "cell_type": "code",
      "source": [
        "sensitivity_data = []\n",
        "train_losses = []\n",
        "test_losses = []\n",
        "train_accuracy = []\n",
        "test_accuracy = []\n",
        "network = NeuralNetwork()\n",
        "optimizer = optim.SGD(network.parameters(), lr=learning_rate,\n",
        "                      momentum=momentum)\n",
        "batch_size_train = [64, 128, 256, 512, 1024, 2048]\n",
        "for i in range(6):\n",
        "  train_loader = DataLoader(training_data, batch_size=batch_size_train[i], shuffle=False)\n",
        "  # test_loader = DataLoader(test_data, batch_size=batch_size_test, shuffle=True)\n",
        "  n_epochs = 3\n",
        "  for epoch in range(1, n_epochs + 1):\n",
        "    train(epoch)\n",
        "    test()\n",
        "  sensitivity = caculate_sensitivity()\n",
        "  sensitivity_data.append(sensitivity)\n",
        "\n",
        "  loss = 0\n",
        "  correct = 0\n",
        "  with torch.no_grad():\n",
        "    for data, target in train_loader:\n",
        "      output = network(data)\n",
        "      loss += loss_fn(output, target).item()\n",
        "      pred = output.data.max(1, keepdim=True)[1]\n",
        "      correct += pred.eq(target.data.view_as(pred)).sum()\n",
        "  accu = 100. * correct / len(train_loader.dataset)\n",
        "  loss /= len(train_loader)\n",
        "  train_losses.append(loss)\n",
        "  train_accuracy.append(accu.item())\n",
        "\n",
        "  loss = 0\n",
        "  correct = 0\n",
        "  with torch.no_grad():\n",
        "    for data, target in test_loader:\n",
        "      output = network(data)\n",
        "      loss += loss_fn(output, target).item()\n",
        "      pred = output.data.max(1, keepdim=True)[1]\n",
        "      correct += pred.eq(target.data.view_as(pred)).sum()\n",
        "  accu = 100. * correct / len(test_loader.dataset)\n",
        "  loss /= len(test_loader)\n",
        "  test_losses.append(loss)\n",
        "  test_accuracy.append(accu.item())"
      ],
      "metadata": {
        "id": "kcK9msaEZVtd"
      },
      "execution_count": null,
      "outputs": []
    },
    {
      "cell_type": "code",
      "source": [
        "torch.save(network.state_dict(), 'model6_weights.pth')"
      ],
      "metadata": {
        "id": "voNh6K58c3Qx"
      },
      "execution_count": null,
      "outputs": []
    },
    {
      "cell_type": "code",
      "source": [
        "torch.save(network.state_dict(), 'model7_weights.pth')"
      ],
      "metadata": {
        "id": "zW9BxBPUdqsr"
      },
      "execution_count": null,
      "outputs": []
    },
    {
      "cell_type": "code",
      "source": [
        "test_losses = []\n",
        "train_losses = []\n",
        "test_accu = []\n",
        "train_accu = []\n",
        "weight1 = torch.load('model6_weights.pth')\n",
        "weight2 = torch.load('model7_weights.pth')\n",
        "for alpha in np.arange(-1.0,2.0,0.1):\n",
        "  weight = {}\n",
        "  for item in weight1:\n",
        "    weight[item] = (1 - alpha)*weight1[item] + alpha*weight2[item]\n",
        "  model = NeuralNetwork()\n",
        "  model.load_state_dict(weight)\n",
        "  model.eval()\n",
        "  loss = 0\n",
        "  correct = 0\n",
        "  with torch.no_grad():\n",
        "    for data, target in train_loader:\n",
        "      output = model(data)\n",
        "      loss += loss_fn(output, target).item()\n",
        "      pred = output.data.max(1, keepdim=True)[1]\n",
        "      correct += pred.eq(target.data.view_as(pred)).sum()\n",
        "  accu = 100. * correct / len(train_loader.dataset)\n",
        "  loss /= len(train_loader)\n",
        "  train_losses.append(loss)\n",
        "  train_accu.append(accu.item())\n",
        "\n",
        "  loss = 0\n",
        "  correct = 0\n",
        "  with torch.no_grad():\n",
        "    for data, target in test_loader:\n",
        "      output = model(data)\n",
        "      loss += loss_fn(output, target).item()\n",
        "      pred = output.data.max(1, keepdim=True)[1]\n",
        "      correct += pred.eq(target.data.view_as(pred)).sum()\n",
        "  accu = 100. * correct / len(test_loader.dataset)\n",
        "  loss /= len(test_loader)\n",
        "  test_losses.append(loss)\n",
        "  test_accu.append(accu.item())\n",
        "  print('Train alpha: {} '.format(alpha))"
      ],
      "metadata": {
        "id": "0Z6pqwg9go3c"
      },
      "execution_count": null,
      "outputs": []
    },
    {
      "cell_type": "code",
      "source": [
        "train_loss_data = np.log(train_losses)\n",
        "test_loss_data = np.log(test_losses)\n",
        "print(len(test_loss_data))\n",
        "time = np.arange(-1.0,2.0,0.1)\n",
        "# time = np.arange(len(train_loss_data))\n",
        "fig = plt.figure()\n",
        "ax = fig.add_subplot(111)\n",
        "p1, = ax.plot(time, train_loss_data,'-')\n",
        "p2, = ax.plot(time, test_loss_data,'--')\n",
        "\n",
        "ax2 = ax.twinx()\n",
        "p3, = ax2.plot(time, train_accu, '-r')\n",
        "p4, = ax2.plot(time, test_accu, '--b')\n",
        "\n",
        "ax.set_xlabel(\"alpha\")\n",
        "ax.set_ylabel(\"loss in log\")\n",
        "ax2.set_ylabel(\"accueacy\")\n",
        "\n",
        "plt.legend([p1,p2,p3,p4],[\"train loss\",\"test loss\",\"train accuracy\",\"test accuracy\"])\n"
      ],
      "metadata": {
        "id": "3eNX2dBQql1i"
      },
      "execution_count": null,
      "outputs": []
    },
    {
      "cell_type": "code",
      "source": [
        "# train_loss_data = np.log(train_losses)\n",
        "# test_loss_data = np.log(test_losses)\n",
        "# print(len(test_loss_data))\n",
        "time = [64, 128, 256, 512, 1024, 2048]\n",
        "# time = np.arange(len(train_loss_data))\n",
        "fig = plt.figure()\n",
        "ax = fig.add_subplot(111)\n",
        "p1, = ax.plot(time, train_losses,'-')\n",
        "p2, = ax.plot(time, test_losses,'--')\n",
        "ax.set_xscale('log') \n",
        "\n",
        "ax2 = ax.twinx()\n",
        "p3, = ax2.plot(time, sensitivity_data, '-r')\n",
        "# p4, = ax2.plot(time, test_accu, '--b')\n",
        "ax2.set_xscale('log') \n",
        "\n",
        "ax.set_xlabel(\"batch size log scale\")\n",
        "ax.set_ylabel(\"loss\")\n",
        "ax2.set_ylabel(\"sensitivity\")\n",
        "\n",
        "plt.legend([p1,p2,p3],[\"train loss\",\"test loss\",\"sensitivity\"])"
      ],
      "metadata": {
        "colab": {
          "base_uri": "https://localhost:8080/",
          "height": 301
        },
        "id": "6-IbQgS2yWKo",
        "outputId": "f839118b-1bfa-4ba5-fb02-b794db79f2c7"
      },
      "execution_count": null,
      "outputs": [
        {
          "output_type": "execute_result",
          "data": {
            "text/plain": [
              "<matplotlib.legend.Legend at 0x7f9f6ab7d250>"
            ]
          },
          "metadata": {},
          "execution_count": 99
        },
        {
          "output_type": "display_data",
          "data": {
            "image/png": "[encoded data removed]",
            "text/plain": [
              "<Figure size 432x288 with 2 Axes>"
            ]
          },
          "metadata": {
            "needs_background": "light"
          }
        }
      ]
    },
    {
      "cell_type": "code",
      "source": [
        "# train_loss_data = np.log(train_losses)\n",
        "# test_loss_data = np.log(test_losses)\n",
        "# print(len(test_loss_data))\n",
        "time = [64, 128, 256, 512, 1024, 2048]\n",
        "# time = np.arange(len(train_loss_data))\n",
        "fig = plt.figure()\n",
        "ax = fig.add_subplot(111)\n",
        "p1, = ax.plot(time, train_accuracy,'-')\n",
        "p2, = ax.plot(time, test_accuracy,'--')\n",
        "ax.set_xscale('log') \n",
        "\n",
        "ax2 = ax.twinx()\n",
        "p3, = ax2.plot(time, sensitivity_data, '-r')\n",
        "# p4, = ax2.plot(time, test_accu, '--b')\n",
        "ax2.set_xscale('log') \n",
        "\n",
        "ax.set_xlabel(\"batch size log scale\")\n",
        "ax.set_ylabel(\"accuracy\")\n",
        "ax2.set_ylabel(\"sensitivity\")\n",
        "\n",
        "plt.legend([p1,p2,p3],[\"train accu\",\"test accu\",\"sensitivity\"])"
      ],
      "metadata": {
        "colab": {
          "base_uri": "https://localhost:8080/",
          "height": 301
        },
        "id": "AZVJsQUM1QIY",
        "outputId": "9dd0d29d-ed6f-4b57-e505-55dd659483d8"
      },
      "execution_count": null,
      "outputs": [
        {
          "output_type": "execute_result",
          "data": {
            "text/plain": [
              "<matplotlib.legend.Legend at 0x7f9f6a9f8e10>"
            ]
          },
          "metadata": {},
          "execution_count": 100
        },
        {
          "output_type": "display_data",
          "data": {
            "image/png": "[encoded data removed]",
            "text/plain": [
              "<Figure size 432x288 with 2 Axes>"
            ]
          },
          "metadata": {
            "needs_background": "light"
          }
        }
      ]
    },
    {
      "cell_type": "code",
      "source": [
        "print(train_losses)"
      ],
      "metadata": {
        "colab": {
          "base_uri": "https://localhost:8080/"
        },
        "id": "qQGSmH2b7wmp",
        "outputId": "369f9f47-ffba-4a71-f18f-952031c59fc4"
      },
      "execution_count": null,
      "outputs": [
        {
          "output_type": "stream",
          "name": "stdout",
          "text": [
            "[0.11167607005876201, 0.08485819082627737, 0.07486311047972041, 0.07256044673149363, 0.07007076506013588, 0.06937313837309679]\n"
          ]
        }
      ]
    },
    {
      "cell_type": "code",
      "source": [
        ""
      ],
      "metadata": {
        "id": "Jf8xolYE-nyG"
      },
      "execution_count": null,
      "outputs": []
    }
  ]
}